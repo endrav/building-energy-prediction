{
 "cells": [
  {
   "cell_type": "code",
   "execution_count": 27,
   "metadata": {
    "id": "h2hJnRZbTfKQ"
   },
   "outputs": [],
   "source": [
    "import pandas as pd\n",
    "import numpy as np\n",
    "import sklearn\n",
    "from sklearn.preprocessing import LabelEncoder\n",
    "import pickle\n",
    "import lightgbm\n",
    "import boto3\n",
    "from sklearn.model_selection import train_test_split\n",
    "from sklearn.preprocessing import StandardScaler\n",
    "\n",
    "from lightgbm import LGBMRegressor\n"
   ]
  },
  {
   "cell_type": "code",
   "execution_count": 2,
   "metadata": {
    "id": "XT-wkCTxU-BA"
   },
   "outputs": [],
   "source": [
    "building_metadata_df = pd.read_csv('building_metadata.csv')\n",
    "train_df = pd.read_csv(\"train.csv\")\n",
    "weather_train_df = pd.read_csv(\"weather_train.csv\")"
   ]
  },
  {
   "cell_type": "code",
   "execution_count": 3,
   "metadata": {
    "id": "9ePPfw091rqz"
   },
   "outputs": [],
   "source": [
    "temp_df = train_df[['building_id']]\n",
    "temp_df = temp_df.merge(building_metadata_df, on = ['building_id'], how = 'left')\n",
    "del temp_df['building_id']\n",
    "train_df = pd.concat([train_df, temp_df], axis=1)"
   ]
  },
  {
   "cell_type": "code",
   "execution_count": 4,
   "metadata": {
    "id": "rMA0TuL3DWtM"
   },
   "outputs": [],
   "source": [
    "temp_df = train_df[['site_id','timestamp']]\n",
    "temp_df = temp_df.merge(weather_train_df, on=['site_id','timestamp'], how='left')\n",
    "del temp_df['site_id'], temp_df['timestamp']\n",
    "train_df = pd.concat([train_df, temp_df], axis =1)"
   ]
  },
  {
   "cell_type": "code",
   "execution_count": 5,
   "metadata": {
    "id": "W8LMPAxsOSh_"
   },
   "outputs": [],
   "source": [
    "train_df.to_pickle('train_df.pkl')\n",
    "\n",
    "\n",
    "del train_df"
   ]
  },
  {
   "cell_type": "code",
   "execution_count": 6,
   "metadata": {
    "id": "yyrPNFjLOoXG"
   },
   "outputs": [],
   "source": [
    "train_df = pd.read_pickle('train_df.pkl')\n"
   ]
  },
  {
   "cell_type": "code",
   "execution_count": 7,
   "metadata": {
    "id": "YUTc613uP17g"
   },
   "outputs": [],
   "source": [
    "train_df['timestamp'] = pd.to_datetime(train_df['timestamp'])"
   ]
  },
  {
   "cell_type": "code",
   "execution_count": 8,
   "metadata": {
    "id": "Gt1bXRUwTTxe"
   },
   "outputs": [],
   "source": [
    "train_df[\"hour\"] = train_df[\"timestamp\"].dt.hour\n",
    "train_df[\"day\"] = train_df[\"timestamp\"].dt.day\n",
    "train_df[\"weekend\"] = train_df[\"timestamp\"].dt.weekday\n",
    "train_df[\"month\"] = train_df[\"timestamp\"].dt.month"
   ]
  },
  {
   "cell_type": "code",
   "execution_count": 9,
   "metadata": {
    "id": "pjE-6thvVDJB"
   },
   "outputs": [],
   "source": [
    "#converting primary_use object to integer type\n",
    "le = LabelEncoder()\n",
    "train_df['primary_use'] = le.fit_transform(train_df['primary_use']).astype(np.int8)"
   ]
  },
  {
   "cell_type": "code",
   "execution_count": 10,
   "metadata": {
    "id": "bTvxYYmxVqyN"
   },
   "outputs": [],
   "source": [
    "#Dropping timestamp column\n",
    "train_df =train_df.drop(columns = ['timestamp'], axis=1)"
   ]
  },
  {
   "cell_type": "code",
   "execution_count": 11,
   "metadata": {
    "id": "VA_O4I5BWTEL"
   },
   "outputs": [],
   "source": [
    "drop_columns = ['building_id','floor_count','precip_depth_1_hr','sea_level_pressure','wind_direction','wind_speed', 'site_id']\n",
    "train_df = train_df.drop(columns=drop_columns)"
   ]
  },
  {
   "cell_type": "code",
   "execution_count": 12,
   "metadata": {
    "id": "zQwD79t95f22"
   },
   "outputs": [],
   "source": [
    "train_df['air_temperature']=train_df['air_temperature'].fillna(20)"
   ]
  },
  {
   "cell_type": "code",
   "execution_count": 13,
   "metadata": {
    "id": "7F07k6BP5o5C"
   },
   "outputs": [],
   "source": [
    "train_df['year_built']=train_df['year_built'].fillna(1990)"
   ]
  },
  {
   "cell_type": "code",
   "execution_count": 14,
   "metadata": {
    "id": "rUvUo8LU7rj3"
   },
   "outputs": [],
   "source": [
    "train_df['cloud_coverage']=train_df['cloud_coverage'].fillna(2)"
   ]
  },
  {
   "cell_type": "code",
   "execution_count": 15,
   "metadata": {
    "id": "7EiwGtvZ-k2I"
   },
   "outputs": [],
   "source": [
    "train_df['dew_temperature']=train_df['dew_temperature'].fillna(15.000000)"
   ]
  },
  {
   "cell_type": "code",
   "execution_count": 16,
   "metadata": {
    "id": "fFqyzFx33Ouz"
   },
   "outputs": [],
   "source": [
    "y = train_df['meter_reading']"
   ]
  },
  {
   "cell_type": "code",
   "execution_count": 17,
   "metadata": {
    "id": "ubpXqM8D3WUp"
   },
   "outputs": [],
   "source": [
    "X = train_df.drop(columns=['meter_reading'])"
   ]
  },
  {
   "cell_type": "code",
   "execution_count": 18,
   "metadata": {
    "id": "9qFkwc8Jp7Bu"
   },
   "outputs": [],
   "source": [
    "X_train, X_test,y_train, y_test = train_test_split(X, y, test_size=0.2, random_state = 555)"
   ]
  },
  {
   "cell_type": "code",
   "execution_count": 19,
   "metadata": {
    "id": "mVYxotLXaTAR"
   },
   "outputs": [],
   "source": [
    "sc = StandardScaler()\n",
    "X_train = sc.fit_transform(X_train)\n",
    "X_test = sc.fit_transform(X_test)\n"
   ]
  },
  {
   "cell_type": "code",
   "execution_count": 20,
   "metadata": {
    "id": "X0i9uEhjw9YQ"
   },
   "outputs": [],
   "source": [
    "\n",
    "LGB = LGBMRegressor()\n"
   ]
  },
  {
   "cell_type": "code",
   "execution_count": 25,
   "metadata": {
    "colab": {
     "base_uri": "https://localhost:8080/"
    },
    "id": "SI2O3WozBNho",
    "outputId": "e0f21377-8487-4bd0-ef3d-ce5a23251316"
   },
   "outputs": [
    {
     "data": {
      "text/plain": [
       "LGBMRegressor()"
      ]
     },
     "execution_count": 25,
     "metadata": {},
     "output_type": "execute_result"
    }
   ],
   "source": [
    "LGB.fit(X_train, y_train)\n",
    "    \n",
    "    #print(\"LGB-Mean Absolute Error: %0.4f \" % (sklearn.metrics.mean_absolute_error(y_test,LGB.predict(X_test)))\n",
    "    #print(\"LGB-R2 score: %0.4f \" % (sklearn.metrics.r2_score(y_test,LGB.predict(X_test))))\n"
   ]
  },
  {
   "cell_type": "code",
   "execution_count": 26,
   "metadata": {},
   "outputs": [],
   "source": [
    "pickle.dump(LGB, open('energymodel.pkl','wb'))"
   ]
  },
  {
   "cell_type": "code",
   "execution_count": 31,
   "metadata": {},
   "outputs": [],
   "source": [
    "s3 = boto3.client('s3')\n",
    "s3.create_bucket(Bucket='energymlmodel')\n",
    "s3.upload_file('energymodel.pkl','energymlmodel','energymodel.pkl')"
   ]
  },
  {
   "cell_type": "code",
   "execution_count": null,
   "metadata": {},
   "outputs": [],
   "source": []
  }
 ],
 "metadata": {
  "colab": {
   "name": "flaskml_edit.ipynb",
   "provenance": []
  },
  "kernelspec": {
   "display_name": "Python 3 (ipykernel)",
   "language": "python",
   "name": "python3"
  },
  "language_info": {
   "codemirror_mode": {
    "name": "ipython",
    "version": 3
   },
   "file_extension": ".py",
   "mimetype": "text/x-python",
   "name": "python",
   "nbconvert_exporter": "python",
   "pygments_lexer": "ipython3",
   "version": "3.7.10"
  }
 },
 "nbformat": 4,
 "nbformat_minor": 1
}
